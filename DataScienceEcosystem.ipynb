{
 "cells": [
  {
   "cell_type": "markdown",
   "metadata": {},
   "source": [
    "### ***Excercise 2: Create markdown cell with title of the notebook***\n",
    "# Data Science Tools and Ecosystem"
   ]
  },
  {
   "cell_type": "markdown",
   "metadata": {},
   "source": [
    "### ***Exercise 3 - Create a markdown cell for an introduction***\n",
    "## In this notebook, Data Science Tools and Ecosystem are summarized."
   ]
  },
  {
   "cell_type": "markdown",
   "metadata": {},
   "source": [
    "### ***Exercise 10 - Insert a markdown cell to list Objectives***\n",
    "### **Objectives:**\n",
    "### -List some of the popular languagues used in data science.\n",
    "### -Practice some arithmetic operations using Python.\n",
    "### -Practice markdown bold font and italic font.\n",
    "### -List some development enviroment used by data scientist."
   ]
  },
  {
   "cell_type": "markdown",
   "metadata": {},
   "source": [
    "### ***Exercise 4 - Create a markdown cell to list data science languages***\n",
    "### Some of the popular languages that Data Scientists use are:\n",
    "#### -Python\n",
    "#### -R\n",
    "#### -SQL"
   ]
  },
  {
   "cell_type": "markdown",
   "metadata": {},
   "source": [
    "### ***Exercise 5 - Create a markdown cell to list data science libraries***\n",
    "## Some of the commonly used libraries used by Data Scientists include:\n",
    "### - ggplot\n",
    "### - numpy\n",
    "### - pandas"
   ]
  },
  {
   "cell_type": "markdown",
   "metadata": {},
   "source": [
    "### ***Exercise 6 - Create a markdown cell with a table of Data Science tools***\n",
    "|Data Science tools|\n",
    "|-|\n",
    "|Visual Studio|\n",
    "|Anaconda|\n",
    "|R Studio|"
   ]
  },
  {
   "cell_type": "markdown",
   "metadata": {},
   "source": [
    "### ***Exercise 7 - Create a markdown cell introducing arithmetic expression examples***\n",
    "### Below are a few examples of evaluating arithmetic expressions in Python"
   ]
  },
  {
   "cell_type": "markdown",
   "metadata": {},
   "source": [
    "### ***Exercise 8 - Create a code cell to multiply and add numbers***\n",
    "### This a simple arithmetic expression to mutiply then add integers"
   ]
  },
  {
   "cell_type": "code",
   "execution_count": 1,
   "metadata": {},
   "outputs": [
    {
     "data": {
      "text/plain": [
       "17"
      ]
     },
     "execution_count": 1,
     "metadata": {},
     "output_type": "execute_result"
    }
   ],
   "source": [
    "(3*4)+5"
   ]
  },
  {
   "cell_type": "markdown",
   "metadata": {},
   "source": [
    "### ***Exercise 9 - Create a code cell to convert minutes to hours***\n",
    "### This will convert 200 minutes to hours by diving by 60"
   ]
  },
  {
   "cell_type": "code",
   "execution_count": 4,
   "metadata": {},
   "outputs": [
    {
     "data": {
      "text/plain": [
       "3.3333333333333335"
      ]
     },
     "execution_count": 4,
     "metadata": {},
     "output_type": "execute_result"
    }
   ],
   "source": [
    "200/60"
   ]
  },
  {
   "cell_type": "markdown",
   "metadata": {},
   "source": [
    "### ***Exercise 11 - Create a markdown cell to indicate the Author's name***\n",
    "## Juan Carlos Vasquez Galvez\n",
    "### Author"
   ]
  }
 ],
 "metadata": {
  "kernelspec": {
   "display_name": "Python 3",
   "language": "python",
   "name": "python3"
  },
  "language_info": {
   "codemirror_mode": {
    "name": "ipython",
    "version": 3
   },
   "file_extension": ".py",
   "mimetype": "text/x-python",
   "name": "python",
   "nbconvert_exporter": "python",
   "pygments_lexer": "ipython3",
   "version": "3.11.2"
  },
  "orig_nbformat": 4
 },
 "nbformat": 4,
 "nbformat_minor": 2
}
